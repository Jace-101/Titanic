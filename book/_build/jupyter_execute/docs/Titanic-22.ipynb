{
 "cells": [
  {
   "cell_type": "markdown",
   "id": "2492640b",
   "metadata": {},
   "source": [
    "# 2. 출발지의 비밀: 두 승객의 미스터리\n",
    "\n",
    "## Embarked 피쳐 개요\n",
    "\n",
    "Embarked 피쳐는 승객이 탑승한 항구를 나타내는 카테고리형 변수입니다. 총 세 개의 항구가 있습니다:\n",
    "\n",
    "- S = Southampton, 영국\n",
    "\n",
    "- C = Cherbourg, 프랑스\n",
    "\n",
    "- Q = Queenstown, 아일랜드\n",
    "\n",
    "  \n",
    "\n",
    "## 타이타닉호의 항로\n",
    "\n",
    "타이타닉호는 영국 Southampton에서 출발하여 프랑스 Cherbourg, 아일랜드 Queenstown을 거쳐 미국 뉴욕으로 향했습니다. 각 항구에서 승객들이 탑승했으며, 이는 당시 대서양 횡단의 일반적인 항로였습니다.\n",
    "\n",
    "```{figure} ./images/22-1.png\n",
    "---\n",
    "width: 600px\n",
    "---\n",
    "```\n",
    "\n",
    "\n",
    "\n",
    "## Embarked 결측치 분석\n",
    "\n",
    "훈련 데이터셋에는 2명의 승객에 대한 Embarked 정보가 누락되어 있습니다. 이 승객들의 특성을 살펴보고, 어떤 항구에서 탑승했을지 추정해보겠습니다.\n",
    "\n",
    "[결측치 승객 정보 분석 추가 예정]\n",
    "\n",
    "\n",
    "\n",
    "## 결측치 처리\n",
    "\n",
    "앞선 분석을 바탕으로 결측치를 적절한 값으로 대체하겠습니다.\n",
    "\n",
    "## 인코딩\n",
    "\n",
    "Embarked는 카테고리형 변수이므로, 머신러닝 모델이 이해할 수 있는 형태로 변환해야 합니다. 여기서는 원-핫 인코딩(One-Hot Encoding)을 사용하겠습니다.\n",
    "\n",
    "## 모델 예측 결과\n",
    "\n",
    "인코딩된 Embarked 피쳐를 사용하여 모델의 예측 성능이 어떻게 변화하는지 확인해보겠습니다.\n",
    "\n",
    "\n",
    "\n",
    "\n",
    "\n",
    "📝 **프롬프트**\n",
    "\n",
    "```\n",
    "\n",
    "```\n",
    "\n",
    "💻 **코드 & 실행결과**"
   ]
  },
  {
   "cell_type": "code",
   "execution_count": null,
   "id": "7d4851a4",
   "metadata": {},
   "outputs": [],
   "source": []
  },
  {
   "cell_type": "markdown",
   "id": "d17ce08d",
   "metadata": {},
   "source": [
    "본문....\n",
    "\n",
    "\n",
    "\n",
    "Figure 추가\n",
    "\n",
    "```{figure} ./images/11-1.png\n",
    "---\n",
    "width: 600px\n",
    "---\n",
    "결과파일 제출\n",
    "```\n",
    "\n",
    "\n",
    "\n",
    "본문...."
   ]
  }
 ],
 "metadata": {
  "jupytext": {
   "formats": "md:myst",
   "text_representation": {
    "extension": ".md",
    "format_name": "myst",
    "format_version": 0.13,
    "jupytext_version": "1.11.5"
   }
  },
  "kernelspec": {
   "display_name": "Python 3",
   "language": "python",
   "name": "python3"
  },
  "language_info": {
   "codemirror_mode": {
    "name": "ipython",
    "version": 3
   },
   "file_extension": ".py",
   "mimetype": "text/x-python",
   "name": "python",
   "nbconvert_exporter": "python",
   "pygments_lexer": "ipython3",
   "version": "3.12.7"
  },
  "source_map": [
   13,
   75,
   77
  ]
 },
 "nbformat": 4,
 "nbformat_minor": 5
}