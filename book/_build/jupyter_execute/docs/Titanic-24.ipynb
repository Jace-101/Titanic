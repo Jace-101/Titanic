{
 "cells": [
  {
   "cell_type": "markdown",
   "id": "700e0c60",
   "metadata": {},
   "source": [
    "# 4. (예정) 설마 공짜로 탄 거야? 요금 결측치에 숨겨진 비밀\n",
    "\n",
    "이전 섹션에서 우리는 Storey의 누락된 요금을 다른 3등석 Southampton 승객들의 중앙값으로 채웠습니다. 하지만 결측치가 발생한 이유를 다른 관점에서 생각해볼까요? 1912년 타이타닉호는 당시 세계에서 가장 큰 여객선이었고, 최고급 시설을 자랑하는 호화 유람선이었습니다. 그런 배에 무임승객이 있었을까요? 설마 Storey는 공짜로 탑승한 것은 아닐까요? 이런 대담한 가설을 세우고 데이터를 탐구해보는 것도 재미있을 것 같네요. 먼저 train 데이터에서 요금을 지불하지 않은(Fare=0) 승객이 있는지 찾아보면서, 우리의 가설을 검증해보도록 하겠습니다.\n",
    "\n",
    "\n",
    "\n",
    "📝 **프롬프트**\n",
    "\n",
    "```\n",
    "\n",
    "```\n",
    "\n",
    "💻 **코드 & 실행결과**"
   ]
  },
  {
   "cell_type": "code",
   "execution_count": null,
   "id": "cb40aabf",
   "metadata": {},
   "outputs": [],
   "source": []
  },
  {
   "cell_type": "markdown",
   "id": "6fba37f2",
   "metadata": {},
   "source": [
    "본문....\n",
    "\n",
    "\n",
    "\n",
    "Figure 추가\n",
    "\n",
    "```{figure} ./images/11-1.png\n",
    "---\n",
    "width: 600px\n",
    "---\n",
    "결과파일 제출\n",
    "```\n",
    "\n",
    "\n",
    "\n",
    "본문...."
   ]
  }
 ],
 "metadata": {
  "jupytext": {
   "formats": "md:myst",
   "text_representation": {
    "extension": ".md",
    "format_name": "myst",
    "format_version": 0.13,
    "jupytext_version": "1.11.5"
   }
  },
  "kernelspec": {
   "display_name": "Python 3",
   "language": "python",
   "name": "python3"
  },
  "language_info": {
   "codemirror_mode": {
    "name": "ipython",
    "version": 3
   },
   "file_extension": ".py",
   "mimetype": "text/x-python",
   "name": "python",
   "nbconvert_exporter": "python",
   "pygments_lexer": "ipython3",
   "version": "3.12.7"
  },
  "source_map": [
   13,
   31,
   33
  ]
 },
 "nbformat": 4,
 "nbformat_minor": 5
}