{
 "cells": [
  {
   "cell_type": "markdown",
   "id": "966dd2ab",
   "metadata": {},
   "source": [
    "# 5. (예정) 나이(Age)는 상관계수가 낮던데, 생존자 예측에 얼마나 도움이 될까?\n",
    "\n",
    "\n",
    "\n",
    "# 섹션 제목\n",
    "\n",
    "## 소제목\n",
    "\n",
    "본문...\n",
    "\n",
    "\n",
    "\n",
    "📝 **프롬프트**\n",
    "\n",
    "```\n",
    "\n",
    "```\n",
    "\n",
    "💻 **코드 & 실행결과**"
   ]
  },
  {
   "cell_type": "code",
   "execution_count": null,
   "id": "bb410ca1",
   "metadata": {},
   "outputs": [],
   "source": []
  },
  {
   "cell_type": "markdown",
   "id": "58bb08ab",
   "metadata": {},
   "source": [
    "본문....\n",
    "\n",
    "\n",
    "\n",
    "Figure 추가\n",
    "\n",
    "```{figure} ./images/11-1.png\n",
    "---\n",
    "width: 600px\n",
    "---\n",
    "결과파일 제출\n",
    "```\n",
    "\n",
    "\n",
    "\n",
    "본문...."
   ]
  }
 ],
 "metadata": {
  "jupytext": {
   "formats": "md:myst",
   "text_representation": {
    "extension": ".md",
    "format_name": "myst",
    "format_version": 0.13,
    "jupytext_version": "1.11.5"
   }
  },
  "kernelspec": {
   "display_name": "Python 3",
   "language": "python",
   "name": "python3"
  },
  "language_info": {
   "codemirror_mode": {
    "name": "ipython",
    "version": 3
   },
   "file_extension": ".py",
   "mimetype": "text/x-python",
   "name": "python",
   "nbconvert_exporter": "python",
   "pygments_lexer": "ipython3",
   "version": "3.12.7"
  },
  "source_map": [
   13,
   37,
   39
  ]
 },
 "nbformat": 4,
 "nbformat_minor": 5
}