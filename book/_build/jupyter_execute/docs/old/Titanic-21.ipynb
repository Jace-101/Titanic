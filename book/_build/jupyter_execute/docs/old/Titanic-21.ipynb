{
 "cells": [
  {
   "cell_type": "markdown",
   "id": "6a570e3a",
   "metadata": {},
   "source": [
    "# 1. 성별(Sex)을 추가하면 생존 예측의 정확도가 얼마나 올라갈까?\n",
    "\n",
    "타이타닉 영화에서 남자 주인공인 잭은 죽었고, 여자 주인공인 로즈는 구조되었습니다. 실제 사고에서도 그랬을까요? train 데이터에서 성별에 따른 생존비율을 확인해봅시다.\n",
    "\n",
    "```{figure} ./images/21-1.png\n",
    "---\n",
    "width: 600px\n",
    "---\n",
    "영화 '타이타닉'의 한 장면\n",
    "```\n",
    "\n",
    "*로즈는 나무 위에서 생존할 수 있었지만, 잭은 차가운 바다 속에서 생을 마감했습니다. 이 장면은 당시 여성 승객들이 남성 승객들보다 더 높은 생존 기회를 가졌다는 역사적 사실을 극적으로 보여줍니다.*\n",
    "\n",
    "\n",
    "\n",
    "💻 **준비 코드**"
   ]
  },
  {
   "cell_type": "code",
   "execution_count": 1,
   "id": "fa61dae7",
   "metadata": {
    "tags": [
     "hide-input"
    ]
   },
   "outputs": [
    {
     "ename": "FileNotFoundError",
     "evalue": "[Errno 2] No such file or directory: 'train.csv'",
     "output_type": "error",
     "traceback": [
      "\u001b[1;31m---------------------------------------------------------------------------\u001b[0m",
      "\u001b[1;31mFileNotFoundError\u001b[0m                         Traceback (most recent call last)",
      "Cell \u001b[1;32mIn[1], line 3\u001b[0m\n\u001b[0;32m      1\u001b[0m \u001b[38;5;28;01mimport\u001b[39;00m \u001b[38;5;21;01mpandas\u001b[39;00m \u001b[38;5;28;01mas\u001b[39;00m \u001b[38;5;21;01mpd\u001b[39;00m\n\u001b[1;32m----> 3\u001b[0m train \u001b[38;5;241m=\u001b[39m pd\u001b[38;5;241m.\u001b[39mread_csv(\u001b[38;5;124m'\u001b[39m\u001b[38;5;124mtrain.csv\u001b[39m\u001b[38;5;124m'\u001b[39m)\n\u001b[0;32m      4\u001b[0m test \u001b[38;5;241m=\u001b[39m pd\u001b[38;5;241m.\u001b[39mread_csv(\u001b[38;5;124m'\u001b[39m\u001b[38;5;124mtest.csv\u001b[39m\u001b[38;5;124m'\u001b[39m)\n\u001b[0;32m      5\u001b[0m submission \u001b[38;5;241m=\u001b[39m pd\u001b[38;5;241m.\u001b[39mread_csv(\u001b[38;5;124m'\u001b[39m\u001b[38;5;124mgender_submission.csv\u001b[39m\u001b[38;5;124m'\u001b[39m)\n",
      "File \u001b[1;32m~\\anaconda3\\Lib\\site-packages\\pandas\\io\\parsers\\readers.py:1026\u001b[0m, in \u001b[0;36mread_csv\u001b[1;34m(filepath_or_buffer, sep, delimiter, header, names, index_col, usecols, dtype, engine, converters, true_values, false_values, skipinitialspace, skiprows, skipfooter, nrows, na_values, keep_default_na, na_filter, verbose, skip_blank_lines, parse_dates, infer_datetime_format, keep_date_col, date_parser, date_format, dayfirst, cache_dates, iterator, chunksize, compression, thousands, decimal, lineterminator, quotechar, quoting, doublequote, escapechar, comment, encoding, encoding_errors, dialect, on_bad_lines, delim_whitespace, low_memory, memory_map, float_precision, storage_options, dtype_backend)\u001b[0m\n\u001b[0;32m   1013\u001b[0m kwds_defaults \u001b[38;5;241m=\u001b[39m _refine_defaults_read(\n\u001b[0;32m   1014\u001b[0m     dialect,\n\u001b[0;32m   1015\u001b[0m     delimiter,\n\u001b[1;32m   (...)\u001b[0m\n\u001b[0;32m   1022\u001b[0m     dtype_backend\u001b[38;5;241m=\u001b[39mdtype_backend,\n\u001b[0;32m   1023\u001b[0m )\n\u001b[0;32m   1024\u001b[0m kwds\u001b[38;5;241m.\u001b[39mupdate(kwds_defaults)\n\u001b[1;32m-> 1026\u001b[0m \u001b[38;5;28;01mreturn\u001b[39;00m _read(filepath_or_buffer, kwds)\n",
      "File \u001b[1;32m~\\anaconda3\\Lib\\site-packages\\pandas\\io\\parsers\\readers.py:620\u001b[0m, in \u001b[0;36m_read\u001b[1;34m(filepath_or_buffer, kwds)\u001b[0m\n\u001b[0;32m    617\u001b[0m _validate_names(kwds\u001b[38;5;241m.\u001b[39mget(\u001b[38;5;124m\"\u001b[39m\u001b[38;5;124mnames\u001b[39m\u001b[38;5;124m\"\u001b[39m, \u001b[38;5;28;01mNone\u001b[39;00m))\n\u001b[0;32m    619\u001b[0m \u001b[38;5;66;03m# Create the parser.\u001b[39;00m\n\u001b[1;32m--> 620\u001b[0m parser \u001b[38;5;241m=\u001b[39m TextFileReader(filepath_or_buffer, \u001b[38;5;241m*\u001b[39m\u001b[38;5;241m*\u001b[39mkwds)\n\u001b[0;32m    622\u001b[0m \u001b[38;5;28;01mif\u001b[39;00m chunksize \u001b[38;5;129;01mor\u001b[39;00m iterator:\n\u001b[0;32m    623\u001b[0m     \u001b[38;5;28;01mreturn\u001b[39;00m parser\n",
      "File \u001b[1;32m~\\anaconda3\\Lib\\site-packages\\pandas\\io\\parsers\\readers.py:1620\u001b[0m, in \u001b[0;36mTextFileReader.__init__\u001b[1;34m(self, f, engine, **kwds)\u001b[0m\n\u001b[0;32m   1617\u001b[0m     \u001b[38;5;28mself\u001b[39m\u001b[38;5;241m.\u001b[39moptions[\u001b[38;5;124m\"\u001b[39m\u001b[38;5;124mhas_index_names\u001b[39m\u001b[38;5;124m\"\u001b[39m] \u001b[38;5;241m=\u001b[39m kwds[\u001b[38;5;124m\"\u001b[39m\u001b[38;5;124mhas_index_names\u001b[39m\u001b[38;5;124m\"\u001b[39m]\n\u001b[0;32m   1619\u001b[0m \u001b[38;5;28mself\u001b[39m\u001b[38;5;241m.\u001b[39mhandles: IOHandles \u001b[38;5;241m|\u001b[39m \u001b[38;5;28;01mNone\u001b[39;00m \u001b[38;5;241m=\u001b[39m \u001b[38;5;28;01mNone\u001b[39;00m\n\u001b[1;32m-> 1620\u001b[0m \u001b[38;5;28mself\u001b[39m\u001b[38;5;241m.\u001b[39m_engine \u001b[38;5;241m=\u001b[39m \u001b[38;5;28mself\u001b[39m\u001b[38;5;241m.\u001b[39m_make_engine(f, \u001b[38;5;28mself\u001b[39m\u001b[38;5;241m.\u001b[39mengine)\n",
      "File \u001b[1;32m~\\anaconda3\\Lib\\site-packages\\pandas\\io\\parsers\\readers.py:1880\u001b[0m, in \u001b[0;36mTextFileReader._make_engine\u001b[1;34m(self, f, engine)\u001b[0m\n\u001b[0;32m   1878\u001b[0m     \u001b[38;5;28;01mif\u001b[39;00m \u001b[38;5;124m\"\u001b[39m\u001b[38;5;124mb\u001b[39m\u001b[38;5;124m\"\u001b[39m \u001b[38;5;129;01mnot\u001b[39;00m \u001b[38;5;129;01min\u001b[39;00m mode:\n\u001b[0;32m   1879\u001b[0m         mode \u001b[38;5;241m+\u001b[39m\u001b[38;5;241m=\u001b[39m \u001b[38;5;124m\"\u001b[39m\u001b[38;5;124mb\u001b[39m\u001b[38;5;124m\"\u001b[39m\n\u001b[1;32m-> 1880\u001b[0m \u001b[38;5;28mself\u001b[39m\u001b[38;5;241m.\u001b[39mhandles \u001b[38;5;241m=\u001b[39m get_handle(\n\u001b[0;32m   1881\u001b[0m     f,\n\u001b[0;32m   1882\u001b[0m     mode,\n\u001b[0;32m   1883\u001b[0m     encoding\u001b[38;5;241m=\u001b[39m\u001b[38;5;28mself\u001b[39m\u001b[38;5;241m.\u001b[39moptions\u001b[38;5;241m.\u001b[39mget(\u001b[38;5;124m\"\u001b[39m\u001b[38;5;124mencoding\u001b[39m\u001b[38;5;124m\"\u001b[39m, \u001b[38;5;28;01mNone\u001b[39;00m),\n\u001b[0;32m   1884\u001b[0m     compression\u001b[38;5;241m=\u001b[39m\u001b[38;5;28mself\u001b[39m\u001b[38;5;241m.\u001b[39moptions\u001b[38;5;241m.\u001b[39mget(\u001b[38;5;124m\"\u001b[39m\u001b[38;5;124mcompression\u001b[39m\u001b[38;5;124m\"\u001b[39m, \u001b[38;5;28;01mNone\u001b[39;00m),\n\u001b[0;32m   1885\u001b[0m     memory_map\u001b[38;5;241m=\u001b[39m\u001b[38;5;28mself\u001b[39m\u001b[38;5;241m.\u001b[39moptions\u001b[38;5;241m.\u001b[39mget(\u001b[38;5;124m\"\u001b[39m\u001b[38;5;124mmemory_map\u001b[39m\u001b[38;5;124m\"\u001b[39m, \u001b[38;5;28;01mFalse\u001b[39;00m),\n\u001b[0;32m   1886\u001b[0m     is_text\u001b[38;5;241m=\u001b[39mis_text,\n\u001b[0;32m   1887\u001b[0m     errors\u001b[38;5;241m=\u001b[39m\u001b[38;5;28mself\u001b[39m\u001b[38;5;241m.\u001b[39moptions\u001b[38;5;241m.\u001b[39mget(\u001b[38;5;124m\"\u001b[39m\u001b[38;5;124mencoding_errors\u001b[39m\u001b[38;5;124m\"\u001b[39m, \u001b[38;5;124m\"\u001b[39m\u001b[38;5;124mstrict\u001b[39m\u001b[38;5;124m\"\u001b[39m),\n\u001b[0;32m   1888\u001b[0m     storage_options\u001b[38;5;241m=\u001b[39m\u001b[38;5;28mself\u001b[39m\u001b[38;5;241m.\u001b[39moptions\u001b[38;5;241m.\u001b[39mget(\u001b[38;5;124m\"\u001b[39m\u001b[38;5;124mstorage_options\u001b[39m\u001b[38;5;124m\"\u001b[39m, \u001b[38;5;28;01mNone\u001b[39;00m),\n\u001b[0;32m   1889\u001b[0m )\n\u001b[0;32m   1890\u001b[0m \u001b[38;5;28;01massert\u001b[39;00m \u001b[38;5;28mself\u001b[39m\u001b[38;5;241m.\u001b[39mhandles \u001b[38;5;129;01mis\u001b[39;00m \u001b[38;5;129;01mnot\u001b[39;00m \u001b[38;5;28;01mNone\u001b[39;00m\n\u001b[0;32m   1891\u001b[0m f \u001b[38;5;241m=\u001b[39m \u001b[38;5;28mself\u001b[39m\u001b[38;5;241m.\u001b[39mhandles\u001b[38;5;241m.\u001b[39mhandle\n",
      "File \u001b[1;32m~\\anaconda3\\Lib\\site-packages\\pandas\\io\\common.py:873\u001b[0m, in \u001b[0;36mget_handle\u001b[1;34m(path_or_buf, mode, encoding, compression, memory_map, is_text, errors, storage_options)\u001b[0m\n\u001b[0;32m    868\u001b[0m \u001b[38;5;28;01melif\u001b[39;00m \u001b[38;5;28misinstance\u001b[39m(handle, \u001b[38;5;28mstr\u001b[39m):\n\u001b[0;32m    869\u001b[0m     \u001b[38;5;66;03m# Check whether the filename is to be opened in binary mode.\u001b[39;00m\n\u001b[0;32m    870\u001b[0m     \u001b[38;5;66;03m# Binary mode does not support 'encoding' and 'newline'.\u001b[39;00m\n\u001b[0;32m    871\u001b[0m     \u001b[38;5;28;01mif\u001b[39;00m ioargs\u001b[38;5;241m.\u001b[39mencoding \u001b[38;5;129;01mand\u001b[39;00m \u001b[38;5;124m\"\u001b[39m\u001b[38;5;124mb\u001b[39m\u001b[38;5;124m\"\u001b[39m \u001b[38;5;129;01mnot\u001b[39;00m \u001b[38;5;129;01min\u001b[39;00m ioargs\u001b[38;5;241m.\u001b[39mmode:\n\u001b[0;32m    872\u001b[0m         \u001b[38;5;66;03m# Encoding\u001b[39;00m\n\u001b[1;32m--> 873\u001b[0m         handle \u001b[38;5;241m=\u001b[39m \u001b[38;5;28mopen\u001b[39m(\n\u001b[0;32m    874\u001b[0m             handle,\n\u001b[0;32m    875\u001b[0m             ioargs\u001b[38;5;241m.\u001b[39mmode,\n\u001b[0;32m    876\u001b[0m             encoding\u001b[38;5;241m=\u001b[39mioargs\u001b[38;5;241m.\u001b[39mencoding,\n\u001b[0;32m    877\u001b[0m             errors\u001b[38;5;241m=\u001b[39merrors,\n\u001b[0;32m    878\u001b[0m             newline\u001b[38;5;241m=\u001b[39m\u001b[38;5;124m\"\u001b[39m\u001b[38;5;124m\"\u001b[39m,\n\u001b[0;32m    879\u001b[0m         )\n\u001b[0;32m    880\u001b[0m     \u001b[38;5;28;01melse\u001b[39;00m:\n\u001b[0;32m    881\u001b[0m         \u001b[38;5;66;03m# Binary mode\u001b[39;00m\n\u001b[0;32m    882\u001b[0m         handle \u001b[38;5;241m=\u001b[39m \u001b[38;5;28mopen\u001b[39m(handle, ioargs\u001b[38;5;241m.\u001b[39mmode)\n",
      "\u001b[1;31mFileNotFoundError\u001b[0m: [Errno 2] No such file or directory: 'train.csv'"
     ]
    }
   ],
   "source": [
    "import pandas as pd\n",
    "\n",
    "train = pd.read_csv('train.csv')\n",
    "test = pd.read_csv('test.csv')\n",
    "submission = pd.read_csv('gender_submission.csv')"
   ]
  },
  {
   "cell_type": "markdown",
   "id": "591860d8",
   "metadata": {},
   "source": [
    "## 성별과 생존율 사이의 관계\n",
    "\n",
    "먼저 성별에 따른 생존율을 계산하는 코드를 요청해보겠습니다.\n",
    "\n",
    "📝 **프롬프트**\n",
    "\n",
    "```\n",
    "성별에 따른 승객 수와 생존율을 계산해줘\n",
    "```\n",
    "\n",
    "💻 **코드 & 실행결과**"
   ]
  },
  {
   "cell_type": "code",
   "execution_count": null,
   "id": "f589d8bf",
   "metadata": {},
   "outputs": [],
   "source": [
    "results = train.groupby('Sex')['Survived'].agg(['count', 'mean'])\n",
    "results"
   ]
  },
  {
   "cell_type": "markdown",
   "id": "b56f5f30",
   "metadata": {},
   "source": [
    "코드를 살펴보면, groupby() 함수를 사용하여 'Sex' 컬럼을 기준으로 데이터를 그룹화했습니다. 그리고 agg() 함수를 사용하여 각 그룹별로 두 가지 계산을 수행했습니다:\n",
    "\n",
    "1. count: 각 성별의 승객 수를 세어줍니다.\n",
    "2. mean: Survived 컬럼의 평균값을 계산합니다. Survived는 0(사망)과 1(생존)로 구성되어 있으므로, 평균값은 곧 생존율을 의미합니다.\n",
    "\n",
    "결과를 보면 놀라운 사실을 발견할 수 있습니다. 여성 승객의 생존율은 약 74.2%로 매우 높은 반면, 남성 승객의 생존율은 약 18.9%에 불과합니다. 이는 타이타닉 침몰 당시 \"여성과 어린이를 먼저 구하라(Women and children first)\"는 원칙이 실제로 지켜졌음을 보여줍니다. 영화의 설정은 이러한 역사적 사실을 정확하게 반영한 것이었네요.\n",
    "\n",
    "\n",
    "\n",
    "## 성별(Sex) 변수 인코딩하기\n",
    "\n",
    "챕터 1에서는 수치형 변수들만 사용하여 생존자를 예측해보았습니다. 하지만 결과는 그리 좋지 않았죠. 이번에는 Sex(성별) 변수를 활용해보겠습니다.\n",
    "\n",
    "Sex 변수부터 살펴볼까요? train 데이터의 Sex 컬럼은 'male'과 'female', 두 가지 값을 가지고 있습니다. 문제는 이 데이터를 그대로 머신러닝 모델에 입력할 수 없다는 점입니다. 대부분의 머신러닝 알고리즘은 수치 데이터만 처리할 수 있기 때문이죠. 문자열인 'male'과 'female'을 컴퓨터가 이해할 수 있는 숫자로 변환해야 합니다. 이러한 변환 과정을 '인코딩(encoding)'이라고 부릅니다.\n",
    "\n",
    "가장 간단한 방법은 'female'을 0으로, 'male'을 1로 변환하는 것입니다. 이를 '레이블 인코딩(Label Encoding)'이라고 합니다. 또는 'male'과 'female'을 각각의 새로운 피처로 만드는 '원-핫 인코딩(One-Hot Encoding)' 방법도 있습니다. 원-핫 인코딩을 사용하면 Sex_male과 Sex_female이라는 두 개의 컬럼이 생성되고, 해당하는 성별의 컬럼에만 1을, 나머지 컬럼에는 0을 설정합니다. 두 방법 중 어떤 것을 선택해야 할까요?\n",
    "\n",
    "이 경우에는 레이블 인코딩을 사용하겠습니다. Sex는 두 가지 값만 가지는 이진 변수입니다. 원-핫 인코딩을 하면 두 개의 컬럼이 생성되는데, 이는 불필요한 중복입니다. 하나의 컬럼으로도 충분히 정보를 표현할 수 있기 때문입니다.\n",
    "\n",
    "이제 Sex 변수를 레이블 인코딩해보겠습니다.\n",
    "\n",
    "📝 **프롬프트**\n",
    "\n",
    "```\n",
    "Sex 피처를 인코딩해서 Gender라는 새로운 피처를 만들어줘\n",
    "'male'은 0으로, 'female'은 1로 인코딩해줘\n",
    "```\n",
    "\n",
    "💻 **코드 & 실행결과**"
   ]
  },
  {
   "cell_type": "code",
   "execution_count": null,
   "id": "b9d90783",
   "metadata": {},
   "outputs": [],
   "source": [
    "# train 데이터에 Gender 피처 생성\n",
    "train['Gender'] = train['Sex'].map({'male': 0, 'female': 1})\n",
    "\n",
    "# test 데이터에도 Gender 피처 생성\n",
    "test['Gender'] = test['Sex'].map({'male': 0, 'female': 1})"
   ]
  },
  {
   "cell_type": "markdown",
   "id": "0d5819c1",
   "metadata": {},
   "source": [
    "레이블 인코딩을 수행하는 방법은 여러 가지가 있습니다. 여기서는 pandas의 map 함수를 사용했습니다. map 함수는 딕셔너리를 입력으로 받아 키(key)에 해당하는 값을 값(value)으로 변환합니다. Sex 피처의 값이 'male'이면 0으로, 'female'이면 1로 변환하여 Gender라는 새로운 피처에 저장했습니다. \n",
    "train 데이터와 test 데이터 모두에 동일한 인코딩을 적용한 것에 주목해주세요. 머신러닝 프로젝트에서는 train 데이터와 test 데이터에 항상 동일한 전처리를 적용해야 합니다.\n",
    "\n",
    "\n",
    "\n",
    "그럼 변환이 제대로 되었는지 확인해보겠습니다. 변환 결과를 더 쉽게 확인할 수 있도록 필요한 열만 선택해서 출력하겠습니다. \n",
    "\n",
    "📝 **프롬프트**\n",
    "\n",
    "```\n",
    "train에서 'PassengerId', 'Survived', 'Sex', 'Gender' 컬럼만 보여줘\n",
    "```\n",
    "\n",
    "💻 **코드 & 실행결과**"
   ]
  },
  {
   "cell_type": "code",
   "execution_count": null,
   "id": "d142aa69",
   "metadata": {},
   "outputs": [],
   "source": [
    "train[['PassengerId', 'Survived', 'Sex', 'Gender']].head()"
   ]
  },
  {
   "cell_type": "markdown",
   "id": "d459ad65",
   "metadata": {},
   "source": [
    "Sex 피처의 'male', 'female' 값들이 Gender 피처에서는 0과 1로 잘 변환된 것을 확인할 수 있습니다.\n",
    "\n",
    "\n",
    "\n",
    "## 모델 학습과 예측\n",
    "\n",
    "이제 1.3절의 \"Model Training\" 과정을 따라 Random Forest 모델을 학습하겠습니다. Gender 피처를 포함하는 방법은 두 가지가 있습니다.\n",
    "\n",
    "첫 번째는 기존의 inc_fts 리스트에 'Gender'를 추가하는 방법입니다:\n",
    "inc_fts += ['Gender']  # 기존 리스트에 'Gender' 추가\n",
    "\n",
    "또는 처음부터 모든 피처를 포함하여 리스트를 만드는 방법도 있습니다:\n",
    "inc_fts = ['Pclass', 'Age', 'SibSp', 'Parch', 'Fare', 'Gender']\n",
    "\n",
    "💻 **코드 & 실행결과**"
   ]
  },
  {
   "cell_type": "code",
   "execution_count": null,
   "id": "ff768ace",
   "metadata": {},
   "outputs": [],
   "source": [
    "inc_fts = ['Pclass', 'Age', 'SibSp', 'Parch', 'Fare']\n",
    "inc_fts += ['Gender']  # 기존 리스트에 'Gender' 추가\n",
    "\n",
    "print(inc_fts)"
   ]
  },
  {
   "cell_type": "markdown",
   "id": "02f2645b",
   "metadata": {},
   "source": [
    "어느 방법을 사용하든 결과는 동일합니다. 저는 첫 번째 방법으로 하겠습니다. 나머지 학습 과정은 이전과 동일하게 진행하면 됩니다.\n",
    "\n",
    "\n",
    "\n",
    "💻 **코드 & 실행결과**"
   ]
  },
  {
   "cell_type": "code",
   "execution_count": null,
   "id": "9c3be310",
   "metadata": {},
   "outputs": [],
   "source": [
    "X = train[inc_fts]     # 선택한 정보들\n",
    "y = train['Survived']  # 실제 생존 여부\n",
    "X_test = test[inc_fts] # 예측해야 할 데이터의 정보들\n",
    "\n",
    "print(X.shape, y.shape, X_test.shape) # 행과 열 출력 "
   ]
  },
  {
   "cell_type": "markdown",
   "id": "a060a237",
   "metadata": {},
   "source": [
    "X.shape의 결과가 (891, 6)으로 출력되는 것을 확인할 수 있습니다. 이는 891개의 데이터에 6개의 피처(Pclass, Age, SibSp, Parch, Fare, Gender)가 있다는 의미입니다. 마찬가지로 X_test.shape도 (418, 6)으로 출력됩니다. test 데이터의 418개 데이터에도 동일한 6개의 피처가 있다는 뜻이죠.\n",
    "\n",
    "\n",
    "\n",
    "💻 **코드 & 실행결과**"
   ]
  },
  {
   "cell_type": "code",
   "execution_count": null,
   "id": "b04c8ed4",
   "metadata": {},
   "outputs": [],
   "source": [
    "from sklearn.model_selection import train_test_split\n",
    "\n",
    "X_train, X_valid, y_train, y_valid = train_test_split(X, y, test_size=0.2, random_state=42)\n",
    "X_train.shape, X_valid.shape"
   ]
  },
  {
   "cell_type": "markdown",
   "id": "94e7475c",
   "metadata": {},
   "source": [
    "💻 **코드 & 실행결과**"
   ]
  },
  {
   "cell_type": "code",
   "execution_count": null,
   "id": "cfab84cf",
   "metadata": {},
   "outputs": [],
   "source": [
    "from sklearn.ensemble import RandomForestClassifier\n",
    "\n",
    "model = RandomForestClassifier(random_state=42)\n",
    "model.fit(X_train, y_train)"
   ]
  },
  {
   "cell_type": "markdown",
   "id": "effa8825",
   "metadata": {},
   "source": [
    "💻 **코드 & 실행결과**"
   ]
  },
  {
   "cell_type": "code",
   "execution_count": null,
   "id": "01c8dd2e",
   "metadata": {},
   "outputs": [],
   "source": [
    "from sklearn.metrics import accuracy_score\n",
    "\n",
    "y_pred = model.predict(X_valid)\n",
    "accuracy = accuracy_score(y_valid, y_pred)\n",
    "print(f\"Validation Score: {accuracy:.5f}\")"
   ]
  },
  {
   "cell_type": "markdown",
   "id": "b85d9d37",
   "metadata": {},
   "source": [
    "모델 학습 결과, Validation Score가 0.82123으로 나왔습니다. 이는 챕터 1에서 수치형 변수만 사용했을 때의 점수인 0.73184보다 크게 향상된 결과입니다. Gender 피처 하나를 추가했을 뿐인데 정확도가 많이 상승했네요. 이는 앞서 살펴본 것처럼 성별이 생존 여부와 매우 강한 관련이 있다는 것을 다시 한 번 확인시켜주는 결과입니다.\n",
    "\n",
    "\n",
    "\n",
    "💻 **코드 & 실행결과**"
   ]
  },
  {
   "cell_type": "code",
   "execution_count": null,
   "id": "f08c0ac5",
   "metadata": {},
   "outputs": [],
   "source": [
    "y_test_pred = model.predict(X_test)\n",
    "\n",
    "submission['Survived'] = y_test_pred\n",
    "submission.to_csv('titanic_pred.csv', index=False)\n",
    "submission.head()"
   ]
  },
  {
   "cell_type": "markdown",
   "id": "f0eff55c",
   "metadata": {},
   "source": [
    "실제 test 데이터에 대한 예측 결과를 캐글에 제출했더니 0.73444의 점수를 얻었습니다. 이는 418명의 test 데이터 중 307명의 생존 여부를 맞혔다는 의미입니다. 챕터 1에서 수치형 변수만 사용했을 때의 점수가 0.63397(265명)이었던 것과 비교하면, Gender 피처를 추가함으로써 42명을 더 정확하게 예측할 수 있게 되었네요.\n",
    "\n",
    "\n",
    "\n",
    "지금까지의 결과를 표로 정리하면 다음과 같습니다:\n",
    "\n",
    "| 버전 | 피쳐 개수 | Val. Score | Public Score | 맞은 사람 수 |          설명           |\n",
    "| :--: | :-------: | :--------: | :----------: | :----------: | :---------------------: |\n",
    "| 1.3  |     5     |  0.73184   |   0.63397    |    265명     | 5개의 numeric 피쳐 사용 |\n",
    "| 2.1  |     6     |  0.82123   |   0.73444    |    307명     |    Gender 피쳐 추가     |"
   ]
  }
 ],
 "metadata": {
  "jupytext": {
   "formats": "md:myst",
   "text_representation": {
    "extension": ".md",
    "format_name": "myst",
    "format_version": 0.13,
    "jupytext_version": "1.11.5"
   }
  },
  "kernelspec": {
   "display_name": "Python 3",
   "language": "python",
   "name": "python3"
  },
  "language_info": {
   "codemirror_mode": {
    "name": "ipython",
    "version": 3
   },
   "file_extension": ".py",
   "mimetype": "text/x-python",
   "name": "python",
   "nbconvert_exporter": "python",
   "pygments_lexer": "ipython3",
   "version": "3.12.7"
  },
  "source_map": [
   13,
   34,
   42,
   58,
   61,
   94,
   100,
   116,
   118,
   136,
   141,
   148,
   154,
   162,
   167,
   173,
   178,
   184,
   190,
   198,
   204
  ]
 },
 "nbformat": 4,
 "nbformat_minor": 5
}