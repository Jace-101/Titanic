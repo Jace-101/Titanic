{
 "cells": [
  {
   "cell_type": "markdown",
   "id": "556f404d",
   "metadata": {},
   "source": [
    "# 타이타닉 생존자 예측: 첫걸음 떼기\n",
    "\n",
    "## 데이터 파일 이해하기\n",
    "데이터 분석 프로젝트를 시작할 때, 가장 먼저 마주하게 되는 것이 바로 데이터 파일들입니다. 타이타닉 생존자 예측 프로젝트에서는 세 가지 파일이 필요합니다. 이 파일들은 캐글(Kaggle)의 타이타닉 대회 페이지(https://www.kaggle.com/competitions/titanic/data)에서 다운로드할 수 있습니다.\n",
    "\n",
    "\n",
    "\n",
    "📝 **프롬프트**\n",
    "\n",
    "```\n",
    "\n",
    "```\n",
    "\n",
    "💻 **코드 & 실행결과**"
   ]
  },
  {
   "cell_type": "code",
   "execution_count": null,
   "id": "9a23e9ec",
   "metadata": {},
   "outputs": [],
   "source": []
  },
  {
   "cell_type": "markdown",
   "id": "6b4095c4",
   "metadata": {},
   "source": [
    "본문....\n",
    "\n",
    "```{figure} ./images/11-1.png\n",
    "---\n",
    "width: 600px\n",
    "---\n",
    "결과파일 제출\n",
    "```\n",
    "\n",
    "본문...."
   ]
  }
 ],
 "metadata": {
  "jupytext": {
   "formats": "md:myst",
   "text_representation": {
    "extension": ".md",
    "format_name": "myst",
    "format_version": 0.13,
    "jupytext_version": "1.11.5"
   }
  },
  "kernelspec": {
   "display_name": "Python 3",
   "language": "python",
   "name": "python3"
  },
  "language_info": {
   "codemirror_mode": {
    "name": "ipython",
    "version": 3
   },
   "file_extension": ".py",
   "mimetype": "text/x-python",
   "name": "python",
   "nbconvert_exporter": "python",
   "pygments_lexer": "ipython3",
   "version": "3.12.7"
  },
  "source_map": [
   13,
   32,
   34
  ]
 },
 "nbformat": 4,
 "nbformat_minor": 5
}